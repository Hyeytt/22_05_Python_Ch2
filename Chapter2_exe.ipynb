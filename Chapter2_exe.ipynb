{
  "nbformat": 4,
  "nbformat_minor": 0,
  "metadata": {
    "colab": {
      "provenance": [],
      "authorship_tag": "ABX9TyMhj3SFczYZMCN+fcnEtYy0",
      "include_colab_link": true
    },
    "kernelspec": {
      "name": "python3",
      "display_name": "Python 3"
    },
    "language_info": {
      "name": "python"
    }
  },
  "cells": [
    {
      "cell_type": "markdown",
      "metadata": {
        "id": "view-in-github",
        "colab_type": "text"
      },
      "source": [
        "<a href=\"https://colab.research.google.com/github/Hyeytt/22_05_Python_Ch2/blob/main/Chapter2_exe.ipynb\" target=\"_parent\"><img src=\"https://colab.research.google.com/assets/colab-badge.svg\" alt=\"Open In Colab\"/></a>"
      ]
    },
    {
      "cell_type": "markdown",
      "source": [
        " # 사용자에게 이름과 나이를 입력하게 한다. 사용자가 100살이 되는 연도를 화면에 출력하는 프로그램을 작성해라"
      ],
      "metadata": {
        "id": "RTKA9KFtPj2g"
      }
    },
    {
      "cell_type": "code",
      "source": [
        "name = input(\"이름을 입력하시오 : \")          # 변수 name에 input함수를 사용하여 사용자에게 이름을 입력받는 부분\n",
        "age = int(input(\"나이를 입력하시오 : \"))      # 변수 age에 int(정수형 선언) 함수로 사용하여 사용자에게 나이를 입력받음\n",
        "year = 2022 - age + 100                       # 변수 year에 현재 연도 - 변수(age)\n",
        "print( name + \"씨는\" + str(year) + \"년에 100살입니다.\")    # 오류 :  문자와 숫자는 더할 수 없다"
      ],
      "metadata": {
        "colab": {
          "base_uri": "https://localhost:8080/"
        },
        "id": "2oHpYhNFPzwm",
        "outputId": "959efb59-a542-484f-e9e2-ac29f4eb68f1"
      },
      "execution_count": null,
      "outputs": [
        {
          "output_type": "stream",
          "name": "stdout",
          "text": [
            "이름을 입력하시오 : 정현태\n",
            "나이를 입력하시오 : 20\n",
            "정현태씨는2102년에 100살입니다.\n"
          ]
        }
      ]
    },
    {
      "cell_type": "markdown",
      "source": [
        "# 숫자 3개를 입력받아서 평균을 구하시오"
      ],
      "metadata": {
        "id": "qcRpuJviV8IR"
      }
    },
    {
      "cell_type": "code",
      "source": [
        " N1 = int(input(\"첫번째 숫자를 입력하시오 : \" ))\n",
        " N2 = int(input(\"두번째 숫자를 입력하시오 : \"))\n",
        " N3 = int(input(\"세번째 숫자를 입력하시오 : \" ))\n",
        " average = (N1 + N2 + N3)/3                                                          #변수 average 에 숫자 3개를 더해서(묶어야 함) 3으로 나눔\n",
        " sum = N1 + N2 + N3 \n",
        " print(str(N1) + str(N2) + str(N3) +\"합은\"+ str(sum) + \"이고 평균은\" + str(average) + \"입니다\")          # str 안쓰고 그냥 컴마만 사용해서도 표현 가능"
      ],
      "metadata": {
        "colab": {
          "base_uri": "https://localhost:8080/"
        },
        "id": "DOYo9twWTSHM",
        "outputId": "166057fa-754c-45b1-f23f-ba59a9f26fc5"
      },
      "execution_count": 2,
      "outputs": [
        {
          "output_type": "stream",
          "name": "stdout",
          "text": [
            "첫번째 숫자를 입력하시오 : 10\n",
            "두번째 숫자를 입력하시오 : 20\n",
            "세번째 숫자를 입력하시오 : 30\n",
            "102030합은60이고 평균은20.0입니다\n"
          ]
        }
      ]
    },
    {
      "cell_type": "markdown",
      "source": [
        "# 3 사용자로 부터 반지름을 입력받아서 면적을 구하시오"
      ],
      "metadata": {
        "id": "I0XjrcNoV1SO"
      }
    },
    {
      "cell_type": "code",
      "source": [
        "radius = int(input(\"반지름을 입력하시오. : \"))\n",
        "area = 3.141592 * radius * radius\n",
        "print(\"반지름이\", radius , \"인 원의 넓이 = \", area , \"입니다.\")"
      ],
      "metadata": {
        "colab": {
          "base_uri": "https://localhost:8080/"
        },
        "id": "HG5JE3uLVoCC",
        "outputId": "782af702-5041-4b51-b7e4-c21c2c323c81"
      },
      "execution_count": null,
      "outputs": [
        {
          "output_type": "stream",
          "name": "stdout",
          "text": [
            "반지름을 입력하시오. : 10\n",
            "반지름이 10 인 원의 넓이 =  314.1592 입니다.\n"
          ]
        }
      ]
    }
  ]
}